{
 "cells": [
  {
   "cell_type": "code",
   "execution_count": 1,
   "metadata": {},
   "outputs": [],
   "source": [
    "import numpy as np\n",
    "import pandas as pd\n",
    "import matplotlib.pyplot as plt\n",
    "import scipy.stats as st"
   ]
  },
  {
   "cell_type": "code",
   "execution_count": 11,
   "metadata": {},
   "outputs": [],
   "source": [
    "df = pd.read_csv(\"/Users/siddharthkantamneni/Documents/FIMA_NFIP_Redacted_Claims_Data_Set/openFEMA_claims20190731.csv\")"
   ]
  },
  {
   "cell_type": "code",
   "execution_count": 4,
   "metadata": {},
   "outputs": [
    {
     "data": {
      "text/plain": [
       "2431532"
      ]
     },
     "execution_count": 4,
     "metadata": {},
     "output_type": "execute_result"
    }
   ],
   "source": [
    "len(df)"
   ]
  },
  {
   "cell_type": "code",
   "execution_count": 12,
   "metadata": {},
   "outputs": [],
   "source": [
    "df[\"amountpaidonincreasedcostofcomplianceclaim\"].fillna(0,inplace = True)\n",
    "df[\"amountpaidoncontentsclaim\"].fillna(0,inplace = True)\n",
    "df[\"amountpaidonbuildingclaim\"].fillna(0,inplace = True)"
   ]
  },
  {
   "cell_type": "code",
   "execution_count": 13,
   "metadata": {},
   "outputs": [],
   "source": [
    "df[\"sum_paid\"] = df[\"amountpaidonincreasedcostofcomplianceclaim\"]+df[\"amountpaidoncontentsclaim\"]+df[\"amountpaidonbuildingclaim\"]"
   ]
  },
  {
   "cell_type": "code",
   "execution_count": 7,
   "metadata": {},
   "outputs": [
    {
     "data": {
      "text/plain": [
       "agriculturestructureindicator                         NaN\n",
       "asofdate                                       2019-07-31\n",
       "basefloodelevation                                    NaN\n",
       "basementenclosurecrawlspacetype                         0\n",
       "reportedcity                                    OCEANSIDE\n",
       "condominiumindicator                                    N\n",
       "policycount                                             1\n",
       "countycode                                           6073\n",
       "crsdiscount                                             0\n",
       "dateofloss                                     1998-02-07\n",
       "elevatedbuildingindicator                               N\n",
       "elevationcertificateindicator                         NaN\n",
       "elevationdifference                                   999\n",
       "censustract                                   6.07302e+09\n",
       "floodzone                                               X\n",
       "houseworship                                          NaN\n",
       "latitude                                             33.2\n",
       "locationofcontents                                    NaN\n",
       "longitude                                         -117.29\n",
       "lowestadjacentgrade                                   NaN\n",
       "lowestfloorelevation                                  NaN\n",
       "numberoffloorsintheinsuredbuilding                      4\n",
       "nonprofitindicator                                    NaN\n",
       "obstructiontype                                        10\n",
       "occupancytype                                           1\n",
       "originalconstructiondate                       1963-01-01\n",
       "originalnbdate                                 1997-01-11\n",
       "amountpaidonbuildingclaim                               0\n",
       "amountpaidoncontentsclaim                               0\n",
       "amountpaidonincreasedcostofcomplianceclaim              0\n",
       "postfirmconstructionindicator                           N\n",
       "ratemethod                                              7\n",
       "smallbusinessindicatorbuilding                        NaN\n",
       "state                                                  CA\n",
       "totalbuildinginsurancecoverage                     200000\n",
       "totalcontentsinsurancecoverage                      50000\n",
       "yearofloss                                           1998\n",
       "reportedzipcode                                     92056\n",
       "primaryresidence                                      NaN\n",
       "sum_paid                                                0\n",
       "Name: 0, dtype: object"
      ]
     },
     "execution_count": 7,
     "metadata": {},
     "output_type": "execute_result"
    }
   ],
   "source": [
    "df.iloc[0]"
   ]
  },
  {
   "cell_type": "code",
   "execution_count": 14,
   "metadata": {},
   "outputs": [],
   "source": [
    "df[\"longitude\"] = np.round(df[\"longitude\"],1)\n",
    "df[\"latitude\"] = np.round(df[\"latitude\"],1)"
   ]
  },
  {
   "cell_type": "code",
   "execution_count": 15,
   "metadata": {},
   "outputs": [],
   "source": [
    "dfa = df.filter(['latitude','longitude','sum_paid'], axis=1)"
   ]
  },
  {
   "cell_type": "code",
   "execution_count": 16,
   "metadata": {},
   "outputs": [
    {
     "data": {
      "text/html": [
       "<div>\n",
       "<style scoped>\n",
       "    .dataframe tbody tr th:only-of-type {\n",
       "        vertical-align: middle;\n",
       "    }\n",
       "\n",
       "    .dataframe tbody tr th {\n",
       "        vertical-align: top;\n",
       "    }\n",
       "\n",
       "    .dataframe thead th {\n",
       "        text-align: right;\n",
       "    }\n",
       "</style>\n",
       "<table border=\"1\" class=\"dataframe\">\n",
       "  <thead>\n",
       "    <tr style=\"text-align: right;\">\n",
       "      <th></th>\n",
       "      <th>latitude</th>\n",
       "      <th>longitude</th>\n",
       "      <th>sum_paid</th>\n",
       "    </tr>\n",
       "  </thead>\n",
       "  <tbody>\n",
       "    <tr>\n",
       "      <th>0</th>\n",
       "      <td>33.2</td>\n",
       "      <td>-117.3</td>\n",
       "      <td>0.00</td>\n",
       "    </tr>\n",
       "    <tr>\n",
       "      <th>1</th>\n",
       "      <td>29.9</td>\n",
       "      <td>-90.0</td>\n",
       "      <td>0.00</td>\n",
       "    </tr>\n",
       "    <tr>\n",
       "      <th>2</th>\n",
       "      <td>30.4</td>\n",
       "      <td>-86.9</td>\n",
       "      <td>10533.21</td>\n",
       "    </tr>\n",
       "    <tr>\n",
       "      <th>3</th>\n",
       "      <td>32.4</td>\n",
       "      <td>-80.7</td>\n",
       "      <td>2906.00</td>\n",
       "    </tr>\n",
       "    <tr>\n",
       "      <th>4</th>\n",
       "      <td>28.2</td>\n",
       "      <td>-80.7</td>\n",
       "      <td>5420.53</td>\n",
       "    </tr>\n",
       "  </tbody>\n",
       "</table>\n",
       "</div>"
      ],
      "text/plain": [
       "   latitude  longitude  sum_paid\n",
       "0      33.2     -117.3      0.00\n",
       "1      29.9      -90.0      0.00\n",
       "2      30.4      -86.9  10533.21\n",
       "3      32.4      -80.7   2906.00\n",
       "4      28.2      -80.7   5420.53"
      ]
     },
     "execution_count": 16,
     "metadata": {},
     "output_type": "execute_result"
    }
   ],
   "source": [
    "dfa.head()"
   ]
  },
  {
   "cell_type": "code",
   "execution_count": 17,
   "metadata": {},
   "outputs": [],
   "source": [
    "sum_df = df.groupby(['latitude','longitude']).agg({'sum_paid': 'sum'})"
   ]
  },
  {
   "cell_type": "code",
   "execution_count": 18,
   "metadata": {},
   "outputs": [
    {
     "data": {
      "text/plain": [
       "23978"
      ]
     },
     "execution_count": 18,
     "metadata": {},
     "output_type": "execute_result"
    }
   ],
   "source": [
    "len(sum_df)"
   ]
  },
  {
   "cell_type": "code",
   "execution_count": 19,
   "metadata": {},
   "outputs": [],
   "source": [
    "mean_df = df.groupby(['latitude','longitude']).agg({'sum_paid': 'mean'})"
   ]
  },
  {
   "cell_type": "code",
   "execution_count": 20,
   "metadata": {},
   "outputs": [
    {
     "data": {
      "text/html": [
       "<div>\n",
       "<style scoped>\n",
       "    .dataframe tbody tr th:only-of-type {\n",
       "        vertical-align: middle;\n",
       "    }\n",
       "\n",
       "    .dataframe tbody tr th {\n",
       "        vertical-align: top;\n",
       "    }\n",
       "\n",
       "    .dataframe thead th {\n",
       "        text-align: right;\n",
       "    }\n",
       "</style>\n",
       "<table border=\"1\" class=\"dataframe\">\n",
       "  <thead>\n",
       "    <tr style=\"text-align: right;\">\n",
       "      <th></th>\n",
       "      <th></th>\n",
       "      <th>sum_paid</th>\n",
       "    </tr>\n",
       "    <tr>\n",
       "      <th>latitude</th>\n",
       "      <th>longitude</th>\n",
       "      <th></th>\n",
       "    </tr>\n",
       "  </thead>\n",
       "  <tbody>\n",
       "    <tr>\n",
       "      <th>-14.3</th>\n",
       "      <th>-170.7</th>\n",
       "      <td>1493.706667</td>\n",
       "    </tr>\n",
       "    <tr>\n",
       "      <th rowspan=\"2\" valign=\"top\">13.3</th>\n",
       "      <th>144.7</th>\n",
       "      <td>3022.390000</td>\n",
       "    </tr>\n",
       "    <tr>\n",
       "      <th>144.8</th>\n",
       "      <td>6439.106111</td>\n",
       "    </tr>\n",
       "    <tr>\n",
       "      <th rowspan=\"2\" valign=\"top\">13.4</th>\n",
       "      <th>144.6</th>\n",
       "      <td>31291.860000</td>\n",
       "    </tr>\n",
       "    <tr>\n",
       "      <th>144.7</th>\n",
       "      <td>10240.155000</td>\n",
       "    </tr>\n",
       "  </tbody>\n",
       "</table>\n",
       "</div>"
      ],
      "text/plain": [
       "                        sum_paid\n",
       "latitude longitude              \n",
       "-14.3    -170.7      1493.706667\n",
       " 13.3     144.7      3022.390000\n",
       "          144.8      6439.106111\n",
       " 13.4     144.6     31291.860000\n",
       "          144.7     10240.155000"
      ]
     },
     "execution_count": 20,
     "metadata": {},
     "output_type": "execute_result"
    }
   ],
   "source": [
    "mean_df.head()"
   ]
  },
  {
   "cell_type": "code",
   "execution_count": 11,
   "metadata": {},
   "outputs": [],
   "source": [
    "dfb =  df.filter(['reportedcity', 'zipcode','latitude','longitude','sum_paid'], axis=1)"
   ]
  },
  {
   "cell_type": "code",
   "execution_count": 12,
   "metadata": {},
   "outputs": [],
   "source": [
    "sum_dfb = dfb.groupby(['latitude','longitude']);"
   ]
  },
  {
   "cell_type": "code",
   "execution_count": 13,
   "metadata": {},
   "outputs": [
    {
     "ename": "NameError",
     "evalue": "name 'ls' is not defined",
     "output_type": "error",
     "traceback": [
      "\u001b[0;31m---------------------------------------------------------------------------\u001b[0m",
      "\u001b[0;31mNameError\u001b[0m                                 Traceback (most recent call last)",
      "\u001b[0;32m<ipython-input-13-a68e44ee6318>\u001b[0m in \u001b[0;36m<module>\u001b[0;34m\u001b[0m\n\u001b[1;32m      1\u001b[0m \u001b[0;31m#np.unique is our friend\u001b[0m\u001b[0;34m\u001b[0m\u001b[0;34m\u001b[0m\u001b[0;34m\u001b[0m\u001b[0m\n\u001b[0;32m----> 2\u001b[0;31m \u001b[0mnp\u001b[0m\u001b[0;34m.\u001b[0m\u001b[0munique\u001b[0m\u001b[0;34m(\u001b[0m\u001b[0mls\u001b[0m\u001b[0;34m)\u001b[0m\u001b[0;34m\u001b[0m\u001b[0;34m\u001b[0m\u001b[0m\n\u001b[0m",
      "\u001b[0;31mNameError\u001b[0m: name 'ls' is not defined"
     ]
    }
   ],
   "source": [
    "#np.unique is our friend\n",
    "np.unique(ls)"
   ]
  },
  {
   "cell_type": "code",
   "execution_count": 21,
   "metadata": {},
   "outputs": [],
   "source": [
    "sum_df.to_csv(\"/Users/siddharthkantamneni/Project/lat_long_sum_paid.csv\")"
   ]
  },
  {
   "cell_type": "code",
   "execution_count": 22,
   "metadata": {},
   "outputs": [],
   "source": [
    "mean_df.to_csv(\"/Users/siddharthkantamneni/Project/mean_paid.csv\")"
   ]
  },
  {
   "cell_type": "code",
   "execution_count": null,
   "metadata": {},
   "outputs": [],
   "source": []
  }
 ],
 "metadata": {
  "kernelspec": {
   "display_name": "Python 3",
   "language": "python",
   "name": "python3"
  },
  "language_info": {
   "codemirror_mode": {
    "name": "ipython",
    "version": 3
   },
   "file_extension": ".py",
   "mimetype": "text/x-python",
   "name": "python",
   "nbconvert_exporter": "python",
   "pygments_lexer": "ipython3",
   "version": "3.7.3"
  }
 },
 "nbformat": 4,
 "nbformat_minor": 2
}
